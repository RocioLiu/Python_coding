{
  "nbformat": 4,
  "nbformat_minor": 0,
  "metadata": {
    "colab": {
      "name": "4. BUILD THE NEURAL NETWORK.ipynb",
      "provenance": [],
      "collapsed_sections": [],
      "authorship_tag": "ABX9TyM7LLChxdLdcrr/DCENv5BI",
      "include_colab_link": true
    },
    "kernelspec": {
      "name": "python3",
      "display_name": "Python 3"
    },
    "language_info": {
      "name": "python"
    },
    "accelerator": "GPU"
  },
  "cells": [
    {
      "cell_type": "markdown",
      "metadata": {
        "id": "view-in-github",
        "colab_type": "text"
      },
      "source": [
        "<a href=\"https://colab.research.google.com/github/RocioLiu/Python_coding/blob/master/4_BUILD_THE_NEURAL_NETWORK.ipynb\" target=\"_parent\"><img src=\"https://colab.research.google.com/assets/colab-badge.svg\" alt=\"Open In Colab\"/></a>"
      ]
    },
    {
      "cell_type": "markdown",
      "metadata": {
        "id": "0pxyBBneWkaG"
      },
      "source": [
        "# **BUILD THE NEURAL NETWORK**\n",
        "Neural networks comprise of layers/modules that perform operations on data. The [torch.nn](https://pytorch.org/docs/stable/nn.html) namespace provides all the building blocks you need to build your own neural network. Every module in PyTorch subclasses the [nn.Module](https://pytorch.org/docs/stable/generated/torch.nn.Module.html). A neural network is a module itself that consists of other modules (layers). This nested structure allows for building and managing complex architectures easily.\n",
        "\n",
        "In the following sections, we’ll build a neural network to classify images in the FashionMNIST dataset."
      ]
    },
    {
      "cell_type": "code",
      "metadata": {
        "id": "l7ciFN0DXae7"
      },
      "source": [
        "import os \n",
        "import torch\n",
        "from torch import nn\n",
        "from torch.utils.data import DataLoader\n",
        "from torchvision import datasets, transforms"
      ],
      "execution_count": 1,
      "outputs": []
    },
    {
      "cell_type": "markdown",
      "metadata": {
        "id": "n6yWj7qbXrFw"
      },
      "source": [
        "## **Get Device for Training**\n",
        "We want to be able to train our model on a hardware accelerator like the GPU, if it is available. Let’s check to see if [torch.cuda](https://pytorch.org/docs/stable/notes/cuda.html) is available, else we continue to use the CPU."
      ]
    },
    {
      "cell_type": "code",
      "metadata": {
        "colab": {
          "base_uri": "https://localhost:8080/"
        },
        "id": "lkYcnEqsXo4w",
        "outputId": "2b4b0ec1-b851-4b3b-96e8-0c1390f5c11e"
      },
      "source": [
        "device = 'cuda' if torch.cuda.is_available() else 'cpu'\n",
        "print(f\"Using {device} device\")"
      ],
      "execution_count": 2,
      "outputs": [
        {
          "output_type": "stream",
          "text": [
            "Using cuda device\n"
          ],
          "name": "stdout"
        }
      ]
    },
    {
      "cell_type": "markdown",
      "metadata": {
        "id": "VzG6tPHcYR7F"
      },
      "source": [
        "## **Define the Class**\n",
        "We define our neural network by subclassing `nn.Module`, and initialize the neural network layers in `__init__`. Every nn.Module subclass implements the operations on input data in the `forward `method."
      ]
    },
    {
      "cell_type": "code",
      "metadata": {
        "id": "ebemLYaCYE3q"
      },
      "source": [
        "class NeuralNetwork(nn.Module):\n",
        "  def __init__(self):\n",
        "    super(NeuralNetwork, self).__init__()\n",
        "    self.flatten = nn.Flatten()\n",
        "    self.linear_relu_stack = nn.Sequential(\n",
        "        nn.Linear(28*28, 512),\n",
        "        nn.ReLU(),\n",
        "        nn.Linear(512, 512),\n",
        "        nn.ReLU(),\n",
        "        nn.Linear(512, 10),\n",
        "        nn.ReLU()\n",
        "    )\n",
        "\n",
        "  def forward(self, x):\n",
        "    x = self.flatten(x)\n",
        "    logits = self.linear_relu_stack(x)\n",
        "    return logits"
      ],
      "execution_count": 3,
      "outputs": []
    },
    {
      "cell_type": "markdown",
      "metadata": {
        "id": "PA4LAjOecdo9"
      },
      "source": [
        "We create an instance of `NeuralNetwork`, and move it to the `device`, and print its structure."
      ]
    },
    {
      "cell_type": "code",
      "metadata": {
        "colab": {
          "base_uri": "https://localhost:8080/"
        },
        "id": "f7sk0UmLbCRW",
        "outputId": "4d929dcb-4903-4fdb-948c-d20009dfb456"
      },
      "source": [
        "model = NeuralNetwork().to(device)\n",
        "print(model)"
      ],
      "execution_count": 4,
      "outputs": [
        {
          "output_type": "stream",
          "text": [
            "NeuralNetwork(\n",
            "  (flatten): Flatten(start_dim=1, end_dim=-1)\n",
            "  (linear_relu_stack): Sequential(\n",
            "    (0): Linear(in_features=784, out_features=512, bias=True)\n",
            "    (1): ReLU()\n",
            "    (2): Linear(in_features=512, out_features=512, bias=True)\n",
            "    (3): ReLU()\n",
            "    (4): Linear(in_features=512, out_features=10, bias=True)\n",
            "    (5): ReLU()\n",
            "  )\n",
            ")\n"
          ],
          "name": "stdout"
        }
      ]
    },
    {
      "cell_type": "markdown",
      "metadata": {
        "id": "J_B39oFlc4XY"
      },
      "source": [
        "To use the model, we pass it the input data. This executes the model’s `forward`, along with some [background operations](https://github.com/pytorch/pytorch/blob/270111b7b611d174967ed204776985cefca9c144/torch/nn/modules/module.py#L866). Do not call `model.forward()` directly!\n",
        "\n",
        "Calling the model on the input returns a 10-dimensional tensor with raw predicted values for each class. We get the prediction probabilities by passing it through an instance of the `nn.Softmax` module."
      ]
    },
    {
      "cell_type": "code",
      "metadata": {
        "colab": {
          "base_uri": "https://localhost:8080/"
        },
        "id": "-6kxRwsVc4lN",
        "outputId": "db5a1053-d3d7-459a-87bd-97543100f3b4"
      },
      "source": [
        "X = torch.rand(1, 28, 28, device=device)\n",
        "logits = model(X)\n",
        "print(f\"logits: {logits}\\n\")\n",
        "pred_probab = nn.Softmax(dim=1)(logits)\n",
        "print(f\"pred_probab: {pred_probab}\\n\")\n",
        "y_pred = pred_probab.argmax(1)\n",
        "print(f\"Predicted class: {y_pred}\")"
      ],
      "execution_count": 5,
      "outputs": [
        {
          "output_type": "stream",
          "text": [
            "logits: tensor([[0.0000, 0.0211, 0.0062, 0.0000, 0.0579, 0.0000, 0.0693, 0.0000, 0.0000,\n",
            "         0.0243]], device='cuda:0', grad_fn=<ReluBackward0>)\n",
            "\n",
            "pred_probab: tensor([[0.0982, 0.1003, 0.0988, 0.0982, 0.1040, 0.0982, 0.1052, 0.0982, 0.0982,\n",
            "         0.1006]], device='cuda:0', grad_fn=<SoftmaxBackward>)\n",
            "\n",
            "Predicted class: tensor([6], device='cuda:0')\n"
          ],
          "name": "stdout"
        }
      ]
    },
    {
      "cell_type": "markdown",
      "metadata": {
        "id": "6Midy-1IfU4x"
      },
      "source": [
        "## **Model Layers**\n",
        "Lets break down the layers in the FashionMNIST model. To illustrate it, we will take a sample minibatch of 3 images of size 28x28 and see what happens to it as we pass it through the network.\n",
        "\n"
      ]
    },
    {
      "cell_type": "code",
      "metadata": {
        "colab": {
          "base_uri": "https://localhost:8080/"
        },
        "id": "c9gE64jzfVGb",
        "outputId": "903d78b8-be15-421c-962b-53f4712db2d9"
      },
      "source": [
        "input_image = torch.rand(3, 28, 28)\n",
        "print(input_image.size())"
      ],
      "execution_count": 6,
      "outputs": [
        {
          "output_type": "stream",
          "text": [
            "torch.Size([3, 28, 28])\n"
          ],
          "name": "stdout"
        }
      ]
    },
    {
      "cell_type": "markdown",
      "metadata": {
        "id": "H6TI-AcZftgP"
      },
      "source": [
        "### **nn.Flatten**\n",
        "We initialize the [nn.Flatten](https://pytorch.org/docs/stable/generated/torch.nn.Flatten.html) layer to convert each 2D 28x28 image into a contiguous array of 784 pixel values ( the minibatch dimension (at dim=0) is maintained).\n",
        "\n",
        "`CLASS torch.nn.Flatten(start_dim=1, end_dim=-1)`"
      ]
    },
    {
      "cell_type": "code",
      "metadata": {
        "colab": {
          "base_uri": "https://localhost:8080/"
        },
        "id": "G6yA4vRoftnt",
        "outputId": "5c540169-4eca-4241-b341-7c2f16dd6573"
      },
      "source": [
        "flatten = nn.Flatten()\n",
        "flat_image = flatten(input_image)\n",
        "print(flat_image.size())"
      ],
      "execution_count": 9,
      "outputs": [
        {
          "output_type": "stream",
          "text": [
            "torch.Size([3, 784])\n"
          ],
          "name": "stdout"
        }
      ]
    },
    {
      "cell_type": "code",
      "metadata": {
        "colab": {
          "base_uri": "https://localhost:8080/"
        },
        "id": "Cm_PorPKg-QJ",
        "outputId": "be16c154-f75a-4ef7-da14-6d9bf35b0849"
      },
      "source": [
        "# another example just to explain the using of start_dim and end_dim\n",
        "# flatten = nn.Flatten(0, 1)\n",
        "# flat_image = flatten(input_image)\n",
        "# print(flat_image.size())"
      ],
      "execution_count": 8,
      "outputs": [
        {
          "output_type": "stream",
          "text": [
            "torch.Size([84, 28])\n"
          ],
          "name": "stdout"
        }
      ]
    },
    {
      "cell_type": "markdown",
      "metadata": {
        "id": "uUEohSr9bC4d"
      },
      "source": [
        "### **nn.Linear**\n",
        "The [linear layer](https://pytorch.org/docs/stable/generated/torch.nn.Linear.html) is a module that applies a linear transformation on the input using its stored weights and biases.\n",
        "\n",
        "`CLASS torch.nn.Linear(in_features, out_features, bias=True)`"
      ]
    },
    {
      "cell_type": "code",
      "metadata": {
        "id": "0f1YgPKqbDOY",
        "colab": {
          "base_uri": "https://localhost:8080/"
        },
        "outputId": "1061c8e2-a114-40df-c871-1ab425a74228"
      },
      "source": [
        "layer1 = nn.Linear(in_features=28*28, out_features=20)\n",
        "hidden1 = layer1(flat_image)\n",
        "print(hidden1.size())"
      ],
      "execution_count": 11,
      "outputs": [
        {
          "output_type": "stream",
          "text": [
            "torch.Size([3, 20])\n"
          ],
          "name": "stdout"
        }
      ]
    },
    {
      "cell_type": "markdown",
      "metadata": {
        "id": "DdMXbI1NvwKH"
      },
      "source": [
        "### **nn.ReLU**\n",
        "Non-linear activations are what create the complex mappings between the model’s inputs and outputs. They are applied after linear transformations to introduce *nonlinearity*, helping neural networks learn a wide variety of phenomena.\n",
        "\n",
        "In this model, we use [nn.ReLU](https://pytorch.org/docs/stable/generated/torch.nn.ReLU.html) between our linear layers, but there’s other activations to introduce non-linearity in your model."
      ]
    },
    {
      "cell_type": "code",
      "metadata": {
        "colab": {
          "base_uri": "https://localhost:8080/"
        },
        "id": "n7aVqUayvg5H",
        "outputId": "74d3086f-5557-4993-c0b3-48b706588820"
      },
      "source": [
        "print(f\"Before ReLU: {hidden1}\\n\\n\")\n",
        "hidden1 = nn.ReLU()(hidden1)\n",
        "print(f\"After ReLU: {hidden1}\")"
      ],
      "execution_count": 12,
      "outputs": [
        {
          "output_type": "stream",
          "text": [
            "Before ReLU: tensor([[ 0.5041, -0.3254, -0.0724,  0.5028, -0.4527,  0.3200,  0.1772,  0.5594,\n",
            "         -0.1155,  0.2656,  0.3515,  0.1032,  0.3572,  0.7601,  0.1550, -0.1417,\n",
            "          0.0688, -0.8251,  0.0325,  0.0914],\n",
            "        [ 0.4507, -0.6610, -0.2169,  0.2678, -0.4002, -0.2804,  0.5710,  0.6042,\n",
            "         -0.0133, -0.0253,  0.3999,  0.1328,  0.2600,  0.7753,  0.3664,  0.2271,\n",
            "         -0.0064, -0.8972,  0.2581, -0.1410],\n",
            "        [ 0.6237,  0.0648, -0.0608,  0.2527, -0.5957, -0.2589,  0.1912,  0.3633,\n",
            "          0.0505,  0.1532,  0.2992,  0.2092,  0.4410,  0.6045,  0.3254,  0.0054,\n",
            "          0.0195, -0.5479,  0.0058, -0.1498]], grad_fn=<AddmmBackward>)\n",
            "\n",
            "\n",
            "After ReLU: tensor([[0.5041, 0.0000, 0.0000, 0.5028, 0.0000, 0.3200, 0.1772, 0.5594, 0.0000,\n",
            "         0.2656, 0.3515, 0.1032, 0.3572, 0.7601, 0.1550, 0.0000, 0.0688, 0.0000,\n",
            "         0.0325, 0.0914],\n",
            "        [0.4507, 0.0000, 0.0000, 0.2678, 0.0000, 0.0000, 0.5710, 0.6042, 0.0000,\n",
            "         0.0000, 0.3999, 0.1328, 0.2600, 0.7753, 0.3664, 0.2271, 0.0000, 0.0000,\n",
            "         0.2581, 0.0000],\n",
            "        [0.6237, 0.0648, 0.0000, 0.2527, 0.0000, 0.0000, 0.1912, 0.3633, 0.0505,\n",
            "         0.1532, 0.2992, 0.2092, 0.4410, 0.6045, 0.3254, 0.0054, 0.0195, 0.0000,\n",
            "         0.0058, 0.0000]], grad_fn=<ReluBackward0>)\n"
          ],
          "name": "stdout"
        }
      ]
    },
    {
      "cell_type": "markdown",
      "metadata": {
        "id": "_TlHBTsSwc8h"
      },
      "source": [
        "### **nn.Sequential**\n",
        "[nn.Sequential](https://pytorch.org/docs/stable/generated/torch.nn.Sequential.html) is an ordered container of modules. The data is passed through all the modules in the same order as defined. You can use sequential containers to put together a quick network like `seq_modules`."
      ]
    },
    {
      "cell_type": "code",
      "metadata": {
        "colab": {
          "base_uri": "https://localhost:8080/"
        },
        "id": "Goyg1LoYwN-5",
        "outputId": "d51e8d8a-d5b9-4b11-8f22-3181b3a935f4"
      },
      "source": [
        "seq_modules = nn.Sequential(\n",
        "    flatten,\n",
        "    layer1,\n",
        "    nn.ReLU(),\n",
        "    nn.Linear(20, 10)\n",
        ")\n",
        "input_image = torch.rand(3, 28, 28)\n",
        "logits = seq_modules(input_image)\n",
        "print(logits.shape)\n",
        "print(logits)"
      ],
      "execution_count": 15,
      "outputs": [
        {
          "output_type": "stream",
          "text": [
            "torch.Size([3, 10])\n",
            "tensor([[-0.0314,  0.2125,  0.2399, -0.0242,  0.4461, -0.0511, -0.5582, -0.2790,\n",
            "          0.3340, -0.3281],\n",
            "        [ 0.1169,  0.3461,  0.1693, -0.0612,  0.2160, -0.0243, -0.4837, -0.3432,\n",
            "          0.2677, -0.3513],\n",
            "        [ 0.0797,  0.1735,  0.2925, -0.2325,  0.2329, -0.0508, -0.4143, -0.2610,\n",
            "          0.3902, -0.1498]], grad_fn=<AddmmBackward>)\n"
          ],
          "name": "stdout"
        }
      ]
    },
    {
      "cell_type": "markdown",
      "metadata": {
        "id": "8DDwNZzix5Uq"
      },
      "source": [
        "### **nn.Softmax**\n",
        "The last linear layer of the neural network returns *logits* - raw values in [-infty, infty] - which are passed to the [nn.Softmax](https://pytorch.org/docs/stable/generated/torch.nn.Softmax.html) module. The logits are scaled to values [0, 1] representing the model’s predicted probabilities for each class. `dim` parameter indicates the dimension along which the values must sum to 1.\n",
        "\n"
      ]
    },
    {
      "cell_type": "code",
      "metadata": {
        "colab": {
          "base_uri": "https://localhost:8080/"
        },
        "id": "toAb1PAfxoFI",
        "outputId": "928888b1-e54e-4704-c118-7cc5c9b22993"
      },
      "source": [
        "softmax = nn.Softmax(dim=1)\n",
        "pred_probab = softmax(logits)\n",
        "print(pred_probab)"
      ],
      "execution_count": 16,
      "outputs": [
        {
          "output_type": "stream",
          "text": [
            "tensor([[0.0931, 0.1188, 0.1221, 0.0938, 0.1501, 0.0913, 0.0550, 0.0727, 0.1341,\n",
            "         0.0692],\n",
            "        [0.1100, 0.1384, 0.1159, 0.0921, 0.1215, 0.0955, 0.0603, 0.0694, 0.1279,\n",
            "         0.0689],\n",
            "        [0.1043, 0.1145, 0.1290, 0.0763, 0.1215, 0.0915, 0.0636, 0.0742, 0.1422,\n",
            "         0.0829]], grad_fn=<SoftmaxBackward>)\n"
          ],
          "name": "stdout"
        }
      ]
    },
    {
      "cell_type": "markdown",
      "metadata": {
        "id": "hJb1uVL0zfJU"
      },
      "source": [
        "## **Model Parameters**\n",
        "Many layers inside a neural network are *parameterized*, i.e. have associated weights and biases that are optimized during training. Subclassing `nn.Module` automatically tracks all fields defined inside your model object, and makes all parameters accessible using your model’s `parameters()` or `named_parameters()` methods.\n",
        "    \n",
        "In this example, we iterate over each parameter, and print its size and a preview of its values.\n",
        "\n"
      ]
    },
    {
      "cell_type": "code",
      "metadata": {
        "colab": {
          "base_uri": "https://localhost:8080/"
        },
        "id": "nmhIUnmvzYQA",
        "outputId": "df909e82-f1fa-4a60-a0ae-39900b8b33a8"
      },
      "source": [
        "print(\"Model structure: \", model, \"\\n\\n\")\n",
        "\n",
        "for name, param in model.named_parameters():\n",
        "  print(f\"Layer: {name} | Size: {param.size()} | Values: {param[:2]}\\n\")"
      ],
      "execution_count": 17,
      "outputs": [
        {
          "output_type": "stream",
          "text": [
            "Model structure:  NeuralNetwork(\n",
            "  (flatten): Flatten(start_dim=1, end_dim=-1)\n",
            "  (linear_relu_stack): Sequential(\n",
            "    (0): Linear(in_features=784, out_features=512, bias=True)\n",
            "    (1): ReLU()\n",
            "    (2): Linear(in_features=512, out_features=512, bias=True)\n",
            "    (3): ReLU()\n",
            "    (4): Linear(in_features=512, out_features=10, bias=True)\n",
            "    (5): ReLU()\n",
            "  )\n",
            ") \n",
            "\n",
            "\n",
            "Layer: linear_relu_stack.0.weight | Size: torch.Size([512, 784]) | Values: tensor([[ 0.0053,  0.0047, -0.0055,  ...,  0.0180,  0.0172,  0.0230],\n",
            "        [-0.0343,  0.0148,  0.0180,  ...,  0.0093,  0.0115,  0.0296]],\n",
            "       device='cuda:0', grad_fn=<SliceBackward>)\n",
            "\n",
            "Layer: linear_relu_stack.0.bias | Size: torch.Size([512]) | Values: tensor([0.0133, 0.0339], device='cuda:0', grad_fn=<SliceBackward>)\n",
            "\n",
            "Layer: linear_relu_stack.2.weight | Size: torch.Size([512, 512]) | Values: tensor([[-0.0068, -0.0134,  0.0205,  ...,  0.0405,  0.0113, -0.0161],\n",
            "        [ 0.0107,  0.0407, -0.0095,  ...,  0.0376,  0.0090,  0.0350]],\n",
            "       device='cuda:0', grad_fn=<SliceBackward>)\n",
            "\n",
            "Layer: linear_relu_stack.2.bias | Size: torch.Size([512]) | Values: tensor([-0.0050, -0.0082], device='cuda:0', grad_fn=<SliceBackward>)\n",
            "\n",
            "Layer: linear_relu_stack.4.weight | Size: torch.Size([10, 512]) | Values: tensor([[ 0.0194,  0.0352, -0.0367,  ..., -0.0015, -0.0357,  0.0373],\n",
            "        [ 0.0188, -0.0257,  0.0209,  ...,  0.0236, -0.0131,  0.0355]],\n",
            "       device='cuda:0', grad_fn=<SliceBackward>)\n",
            "\n",
            "Layer: linear_relu_stack.4.bias | Size: torch.Size([10]) | Values: tensor([-0.0275,  0.0421], device='cuda:0', grad_fn=<SliceBackward>)\n",
            "\n"
          ],
          "name": "stdout"
        }
      ]
    },
    {
      "cell_type": "code",
      "metadata": {
        "id": "zulA3Y4X0ain"
      },
      "source": [
        ""
      ],
      "execution_count": null,
      "outputs": []
    }
  ]
}