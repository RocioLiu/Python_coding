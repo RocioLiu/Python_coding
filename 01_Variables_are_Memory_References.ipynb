{
  "nbformat": 4,
  "nbformat_minor": 0,
  "metadata": {
    "colab": {
      "name": "01 - Variables are Memory References.ipynb",
      "provenance": [],
      "authorship_tag": "ABX9TyMdmyeIpzRRydweh+GLrplo",
      "include_colab_link": true
    },
    "kernelspec": {
      "name": "python3",
      "display_name": "Python 3"
    }
  },
  "cells": [
    {
      "cell_type": "markdown",
      "metadata": {
        "id": "view-in-github",
        "colab_type": "text"
      },
      "source": [
        "<a href=\"https://colab.research.google.com/github/RocioLiu/Python_coding/blob/master/01_Variables_are_Memory_References.ipynb\" target=\"_parent\"><img src=\"https://colab.research.google.com/assets/colab-badge.svg\" alt=\"Open In Colab\"/></a>"
      ]
    },
    {
      "cell_type": "markdown",
      "metadata": {
        "id": "NZOK8Wokmqg_",
        "colab_type": "text"
      },
      "source": [
        "### **Variables are Memory References**\n",
        "We can find the memory address that a variable references, by using the `id()` function.\n",
        "\n",
        "The `id()` function returns the memory address of its argument as a base-10 integer.\n",
        "\n",
        "We can use the function `hex()` to convert the base-10 number to base-16."
      ]
    },
    {
      "cell_type": "code",
      "metadata": {
        "id": "bWB6ud7sjvju",
        "colab_type": "code",
        "colab": {}
      },
      "source": [
        ""
      ],
      "execution_count": null,
      "outputs": []
    },
    {
      "cell_type": "markdown",
      "metadata": {
        "id": "sv53gypumoXL",
        "colab_type": "text"
      },
      "source": [
        ""
      ]
    }
  ]
}