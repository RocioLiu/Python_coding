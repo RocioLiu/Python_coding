{
  "nbformat": 4,
  "nbformat_minor": 0,
  "metadata": {
    "colab": {
      "name": "01 - Variables are Memory References.ipynb",
      "provenance": [],
      "collapsed_sections": [],
      "authorship_tag": "ABX9TyNfwrhz6UN5wke7jbggMXQJ",
      "include_colab_link": true
    },
    "kernelspec": {
      "name": "python3",
      "display_name": "Python 3"
    }
  },
  "cells": [
    {
      "cell_type": "markdown",
      "metadata": {
        "id": "view-in-github",
        "colab_type": "text"
      },
      "source": [
        "<a href=\"https://colab.research.google.com/github/RocioLiu/Python_coding/blob/master/01_Variables_are_Memory_References.ipynb\" target=\"_parent\"><img src=\"https://colab.research.google.com/assets/colab-badge.svg\" alt=\"Open In Colab\"/></a>"
      ]
    },
    {
      "cell_type": "markdown",
      "metadata": {
        "id": "NZOK8Wokmqg_",
        "colab_type": "text"
      },
      "source": [
        "## **Variables are Memory References**\n",
        "We can find the memory address that a variable references, by using the `id()` function.\n",
        "\n",
        "The `id()` function returns the memory address of its argument as a base-10 integer.\n",
        "\n",
        "We can use the function `hex()` to convert the base-10 number to base-16."
      ]
    },
    {
      "cell_type": "code",
      "metadata": {
        "id": "bWB6ud7sjvju",
        "colab_type": "code",
        "colab": {
          "base_uri": "https://localhost:8080/",
          "height": 69
        },
        "outputId": "e2cb1a79-7c6c-4df9-83dd-08211923c471"
      },
      "source": [
        "a = 10\n",
        "print(id(a))\n",
        "print(hex(a))\n",
        "print(hex(id(a)))"
      ],
      "execution_count": 2,
      "outputs": [
        {
          "output_type": "stream",
          "text": [
            "10914784\n",
            "0xa\n",
            "0xa68be0\n"
          ],
          "name": "stdout"
        }
      ]
    },
    {
      "cell_type": "markdown",
      "metadata": {
        "id": "sv53gypumoXL",
        "colab_type": "text"
      },
      "source": [
        "In below example, `my_var` = 10  \n",
        "10 is saved somewhere in memory, and \n",
        "`my_var` is the reference to that object."
      ]
    },
    {
      "cell_type": "code",
      "metadata": {
        "id": "mfjN5qULRu1y",
        "colab_type": "code",
        "colab": {
          "base_uri": "https://localhost:8080/",
          "height": 69
        },
        "outputId": "8b73a1cc-af58-479b-e52b-ed7b75c91d5b"
      },
      "source": [
        "my_var = 10\n",
        "print(my_var)\n",
        "print(id(my_var))\n",
        "print(hex(id(my_var)))"
      ],
      "execution_count": 5,
      "outputs": [
        {
          "output_type": "stream",
          "text": [
            "10\n",
            "10914784\n",
            "0xa68be0\n"
          ],
          "name": "stdout"
        }
      ]
    },
    {
      "cell_type": "code",
      "metadata": {
        "id": "Ih4DxvPbSD9q",
        "colab_type": "code",
        "colab": {
          "base_uri": "https://localhost:8080/",
          "height": 69
        },
        "outputId": "fa7cd483-e547-4ec7-a4ab-086bcaf61463"
      },
      "source": [
        "greeting = 'hello'\n",
        "print(greeting)\n",
        "print(id(greeting))\n",
        "print(hex(id(greeting)))"
      ],
      "execution_count": 6,
      "outputs": [
        {
          "output_type": "stream",
          "text": [
            "hello\n",
            "139678166818296\n",
            "0x7f095b841df8\n"
          ],
          "name": "stdout"
        }
      ]
    },
    {
      "cell_type": "markdown",
      "metadata": {
        "id": "K7K3WzvbSbRj",
        "colab_type": "text"
      },
      "source": [
        "Note how the memory address of `my_var` is **different** from that of `greeting`.\n",
        "\n",
        "Strictly speaking, `my_var` is not \"equal\" to 10.\n",
        "\n",
        "Instead `my_var` is a **reference** to an *(integer)* object *(containing the value 10)* located at the memory address `id(my_var)`\n",
        "\n",
        "Similarly for the variable `greeting`."
      ]
    }
  ]
}