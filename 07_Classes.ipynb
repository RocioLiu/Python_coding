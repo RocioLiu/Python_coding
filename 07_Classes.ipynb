{
  "nbformat": 4,
  "nbformat_minor": 0,
  "metadata": {
    "colab": {
      "name": "07 - Classes.ipynb",
      "provenance": [],
      "collapsed_sections": [],
      "authorship_tag": "ABX9TyNWamkL+D2MGqJlPfta+gKh",
      "include_colab_link": true
    },
    "kernelspec": {
      "name": "python3",
      "display_name": "Python 3"
    }
  },
  "cells": [
    {
      "cell_type": "markdown",
      "metadata": {
        "id": "view-in-github",
        "colab_type": "text"
      },
      "source": [
        "<a href=\"https://colab.research.google.com/github/RocioLiu/Python_coding/blob/master/07_Classes.ipynb\" target=\"_parent\"><img src=\"https://colab.research.google.com/assets/colab-badge.svg\" alt=\"Open In Colab\"/></a>"
      ]
    },
    {
      "cell_type": "markdown",
      "metadata": {
        "id": "PKFUe9wy4IKV",
        "colab_type": "text"
      },
      "source": [
        "## **Custom Classes**\n",
        "We'll cover classes in a lot of detail in this course, but for now you should have at least some understanding of classes in Python and how to create them.\n",
        "\n",
        "To create a custom class we use the class keyword, and we can initialize class attributes in the special method `__init__`."
      ]
    },
    {
      "cell_type": "code",
      "metadata": {
        "id": "vrusz2Uw3IfJ",
        "colab_type": "code",
        "colab": {}
      },
      "source": [
        "class Rectangle():\n",
        "  def __init__(self, width, height):\n",
        "    self.width = width\n",
        "    self.height = height"
      ],
      "execution_count": 2,
      "outputs": []
    },
    {
      "cell_type": "markdown",
      "metadata": {
        "id": "zZwihDBW4XDH",
        "colab_type": "text"
      },
      "source": [
        "We create instances of the Rectangle class by calling it with arguments that are passed to the `__init__` method as the second and third arguments. The first argument (`self`) is automatically filled in by Python and contains the object being created.\n",
        "\n",
        "Note that using `self` is just a convention (although a good one, and you shgoudl use it to make your code more understandable by others), you could really call it whatever (valid) name you choose.\n",
        "\n",
        "But just because you can does not mean you should!\n",
        "\n",
        "The **initializer** in python is implemented using the `__init__` method. The `__init__` method runs once the object has been created.\n",
        "\n",
        "The initialzer is the step after the object being created. The first argument in the instance method is the object itself. we can call it any thing we want, but we usually call it `self` by convention. So `self` means the instance that just been creted."
      ]
    },
    {
      "cell_type": "code",
      "metadata": {
        "id": "_yp4DUw14Npz",
        "colab_type": "code",
        "colab": {}
      },
      "source": [
        "r1 = Rectangle(10, 20)\n",
        "r2 = Rectangle(3, 5)"
      ],
      "execution_count": 3,
      "outputs": []
    },
    {
      "cell_type": "code",
      "metadata": {
        "id": "XWryuHme8SKV",
        "colab_type": "code",
        "colab": {
          "base_uri": "https://localhost:8080/",
          "height": 35
        },
        "outputId": "f4dcabd0-7591-4283-c01d-576acdcb10c7"
      },
      "source": [
        "r1.width"
      ],
      "execution_count": 4,
      "outputs": [
        {
          "output_type": "execute_result",
          "data": {
            "text/plain": [
              "10"
            ]
          },
          "metadata": {
            "tags": []
          },
          "execution_count": 4
        }
      ]
    },
    {
      "cell_type": "code",
      "metadata": {
        "id": "0gNj6Dbu8gHX",
        "colab_type": "code",
        "colab": {
          "base_uri": "https://localhost:8080/",
          "height": 35
        },
        "outputId": "ac73243e-b0ae-4f0b-b657-93a674351d5f"
      },
      "source": [
        "r1.width = 100\n",
        "r1.width"
      ],
      "execution_count": 5,
      "outputs": [
        {
          "output_type": "execute_result",
          "data": {
            "text/plain": [
              "100"
            ]
          },
          "metadata": {
            "tags": []
          },
          "execution_count": 5
        }
      ]
    },
    {
      "cell_type": "code",
      "metadata": {
        "id": "IWhgj3kh8kIF",
        "colab_type": "code",
        "colab": {
          "base_uri": "https://localhost:8080/",
          "height": 35
        },
        "outputId": "f6d79bb3-2a4c-4a4c-c8b0-41eb15d44430"
      },
      "source": [
        "r2.height"
      ],
      "execution_count": 6,
      "outputs": [
        {
          "output_type": "execute_result",
          "data": {
            "text/plain": [
              "5"
            ]
          },
          "metadata": {
            "tags": []
          },
          "execution_count": 6
        }
      ]
    },
    {
      "cell_type": "markdown",
      "metadata": {
        "id": "s_doopWa9MN1",
        "colab_type": "text"
      },
      "source": [
        "`width` and `height` are attributes of the `Rectangle` class. But since they are just values (not callables), we call them **properties**.\n",
        "\n",
        "Attributes that are callables are called **methods**.\n",
        "\n",
        "You'll note that we were able to retrieve the width and height attributes (properties) using a dot notation, where we specify the object we are interested in, then a dot, then the attribute we are interested in.\n",
        "\n",
        "We can add callable attributes to our class (methods), that will also be referenced using the dot notation.\n",
        "\n",
        "Again, we will create instance methods, which means the method will require the first argument to be the object being used when the method is called."
      ]
    },
    {
      "cell_type": "code",
      "metadata": {
        "id": "MMF9OOTZ8xvb",
        "colab_type": "code",
        "colab": {}
      },
      "source": [
        "class Rectangle():\n",
        "  def __init__(self, width, height):\n",
        "    self.width = width\n",
        "    self.height = height\n",
        "\n",
        "  def area(self):\n",
        "    return self.width * self.height\n",
        "\n",
        "  def perimeter(the_referenced_object):\n",
        "    return 2 * (the_referenced_object.width + the_referenced_object.height)"
      ],
      "execution_count": 7,
      "outputs": []
    },
    {
      "cell_type": "code",
      "metadata": {
        "id": "Tkotg8Jj-l52",
        "colab_type": "code",
        "colab": {}
      },
      "source": [
        "r1 = Rectangle(10, 20)"
      ],
      "execution_count": 8,
      "outputs": []
    },
    {
      "cell_type": "code",
      "metadata": {
        "id": "up6KYldn-pm-",
        "colab_type": "code",
        "colab": {
          "base_uri": "https://localhost:8080/",
          "height": 35
        },
        "outputId": "d02a88a7-ad7b-472c-d2d0-f7e02e2ded48"
      },
      "source": [
        "r1.area()"
      ],
      "execution_count": 9,
      "outputs": [
        {
          "output_type": "execute_result",
          "data": {
            "text/plain": [
              "200"
            ]
          },
          "metadata": {
            "tags": []
          },
          "execution_count": 9
        }
      ]
    },
    {
      "cell_type": "markdown",
      "metadata": {
        "id": "k6PBDIV4-1GH",
        "colab_type": "text"
      },
      "source": [
        "When we ran the above line of code, our object was `r1`, so when area was called, Python in fact called the method area in the `Rectangle` class automatically passing `r1` to the `self` parameter.\n",
        "\n",
        "This is why we can use a name other than self, such as in the perimeter method:"
      ]
    },
    {
      "cell_type": "code",
      "metadata": {
        "id": "AtsCFHnK-tds",
        "colab_type": "code",
        "colab": {
          "base_uri": "https://localhost:8080/",
          "height": 35
        },
        "outputId": "bd685e07-9ba7-48a0-f351-1b62b8602c74"
      },
      "source": [
        "r1.perimeter()"
      ],
      "execution_count": 10,
      "outputs": [
        {
          "output_type": "execute_result",
          "data": {
            "text/plain": [
              "60"
            ]
          },
          "metadata": {
            "tags": []
          },
          "execution_count": 10
        }
      ]
    },
    {
      "cell_type": "markdown",
      "metadata": {
        "id": "2ioBvJKR_bJz",
        "colab_type": "text"
      },
      "source": [
        "Again, we're just illustrating a point, don't actually do that!"
      ]
    },
    {
      "cell_type": "code",
      "metadata": {
        "id": "1ENIdhUW-vEH",
        "colab_type": "code",
        "colab": {}
      },
      "source": [
        "class Rectangle:\n",
        "    def __init__(self, width, height):\n",
        "        self.width = width\n",
        "        self.height = height\n",
        "        \n",
        "    def area(self):\n",
        "        return self.width * self.height\n",
        "    \n",
        "    def perimeter(self):\n",
        "        return 2 * (self.width + self.height)"
      ],
      "execution_count": 11,
      "outputs": []
    },
    {
      "cell_type": "code",
      "metadata": {
        "id": "gSJVL2Cm_hJS",
        "colab_type": "code",
        "colab": {}
      },
      "source": [
        "r1 = Rectangle(10, 20)"
      ],
      "execution_count": 12,
      "outputs": []
    },
    {
      "cell_type": "markdown",
      "metadata": {
        "id": "6HQCSf6XSFai",
        "colab_type": "text"
      },
      "source": [
        "Python defines a bunch of **special** methods that we can use to give our classes functionality that resembles functionality of built-in and standard library objects.\n",
        "\n",
        "Many people refer to them as magic methods, but there's nothing magical about them - unlike magic, they are well documented and understood!!\n",
        "\n",
        "These **special** methods provide us an easy way to overload operators in Python.\n",
        "\n",
        "For example, we can obtain the string representation of an integer using the built-in `str` function:"
      ]
    },
    {
      "cell_type": "code",
      "metadata": {
        "id": "H721-mgVSUhI",
        "colab_type": "code",
        "colab": {
          "base_uri": "https://localhost:8080/",
          "height": 35
        },
        "outputId": "e9f4bd36-7668-45f5-d62d-bb9cc2787102"
      },
      "source": [
        "str(10)"
      ],
      "execution_count": 23,
      "outputs": [
        {
          "output_type": "execute_result",
          "data": {
            "application/vnd.google.colaboratory.intrinsic+json": {
              "type": "string"
            },
            "text/plain": [
              "'10'"
            ]
          },
          "metadata": {
            "tags": []
          },
          "execution_count": 23
        }
      ]
    },
    {
      "cell_type": "markdown",
      "metadata": {
        "id": "xVRW0XwLSgS0",
        "colab_type": "text"
      },
      "source": [
        "What happens if we try this with our `Rectangle` object?"
      ]
    },
    {
      "cell_type": "code",
      "metadata": {
        "id": "dx855Bwi_iw8",
        "colab_type": "code",
        "colab": {
          "base_uri": "https://localhost:8080/",
          "height": 35
        },
        "outputId": "c64b2e65-b06f-4507-f287-0414b1ea7582"
      },
      "source": [
        "str(r1)"
      ],
      "execution_count": 13,
      "outputs": [
        {
          "output_type": "execute_result",
          "data": {
            "application/vnd.google.colaboratory.intrinsic+json": {
              "type": "string"
            },
            "text/plain": [
              "'<__main__.Rectangle object at 0x7fcab2e4e240>'"
            ]
          },
          "metadata": {
            "tags": []
          },
          "execution_count": 13
        }
      ]
    },
    {
      "cell_type": "code",
      "metadata": {
        "id": "cgbRZqFuMUVG",
        "colab_type": "code",
        "colab": {
          "base_uri": "https://localhost:8080/",
          "height": 35
        },
        "outputId": "cd80fb74-fd82-4d7c-e117-a96274861b1f"
      },
      "source": [
        "hex(id(r1))"
      ],
      "execution_count": 14,
      "outputs": [
        {
          "output_type": "execute_result",
          "data": {
            "application/vnd.google.colaboratory.intrinsic+json": {
              "type": "string"
            },
            "text/plain": [
              "'0x7fcab2e4e240'"
            ]
          },
          "metadata": {
            "tags": []
          },
          "execution_count": 14
        }
      ]
    },
    {
      "cell_type": "markdown",
      "metadata": {
        "id": "Iv3pn7bJSqy6",
        "colab_type": "text"
      },
      "source": [
        "Not exactly what we might have expected. On the other hand, how is Python supposed to know how to display our rectangle as a string?\n",
        "\n",
        "We could write a method in the class such as:"
      ]
    },
    {
      "cell_type": "code",
      "metadata": {
        "id": "60XWqiyoOmzB",
        "colab_type": "code",
        "colab": {}
      },
      "source": [
        "class Rectangle:\n",
        "    def __init__(self, width, height):\n",
        "        self.width = width\n",
        "        self.height = height\n",
        "        \n",
        "    def area(self):\n",
        "        return self.width * self.height\n",
        "    \n",
        "    def perimeter(self):\n",
        "        return 2 * (self.width + self.height)\n",
        "\n",
        "    def to_string(self):\n",
        "        return 'Rectangle: width={0}, height={1}'.format(self.width, self.height)"
      ],
      "execution_count": 15,
      "outputs": []
    },
    {
      "cell_type": "markdown",
      "metadata": {
        "id": "YWGd5wEBSuzL",
        "colab_type": "text"
      },
      "source": [
        "So now we could get a string from our object as follows:"
      ]
    },
    {
      "cell_type": "code",
      "metadata": {
        "id": "p2bmRwvtPRXp",
        "colab_type": "code",
        "colab": {}
      },
      "source": [
        "r1 = Rectangle(10,20)"
      ],
      "execution_count": 16,
      "outputs": []
    },
    {
      "cell_type": "code",
      "metadata": {
        "id": "vs6pACDKPalJ",
        "colab_type": "code",
        "colab": {
          "base_uri": "https://localhost:8080/",
          "height": 35
        },
        "outputId": "d78c4315-14f3-4a52-88b8-342cac586e27"
      },
      "source": [
        "r1.to_string()"
      ],
      "execution_count": 18,
      "outputs": [
        {
          "output_type": "execute_result",
          "data": {
            "application/vnd.google.colaboratory.intrinsic+json": {
              "type": "string"
            },
            "text/plain": [
              "'Rectangle: width=10, height=20'"
            ]
          },
          "metadata": {
            "tags": []
          },
          "execution_count": 18
        }
      ]
    },
    {
      "cell_type": "markdown",
      "metadata": {
        "id": "X1_YXNRsS0f_",
        "colab_type": "text"
      },
      "source": [
        "But of course, using the built-in `str` function still does not work:"
      ]
    },
    {
      "cell_type": "code",
      "metadata": {
        "id": "5GiCwmd6PZ8b",
        "colab_type": "code",
        "colab": {
          "base_uri": "https://localhost:8080/",
          "height": 35
        },
        "outputId": "f3fc1cbc-94d6-4128-f9b8-71b312ef1ccc"
      },
      "source": [
        "str(r1)"
      ],
      "execution_count": 17,
      "outputs": [
        {
          "output_type": "execute_result",
          "data": {
            "application/vnd.google.colaboratory.intrinsic+json": {
              "type": "string"
            },
            "text/plain": [
              "'<__main__.Rectangle object at 0x7fcab2e052b0>'"
            ]
          },
          "metadata": {
            "tags": []
          },
          "execution_count": 17
        }
      ]
    },
    {
      "cell_type": "markdown",
      "metadata": {
        "id": "sjhTStyaTClP",
        "colab_type": "text"
      },
      "source": [
        "Does this mean we are out of luck, and anyone who writes a class in Python will need to provide some method to do this, and probably come up with their own name for the method too, maybe `to_str`, `make_string`, `stringify`, and who knows what else.\n",
        "\n",
        "Fortunately, this is where these special methods come in. When we call `str(r1)`, Python will first look to see if our class (`Rectangle`) has a special method called `__str__`.\n",
        "\n",
        "If the `__str__` method is present, then Python will call it and return that value.\n",
        "\n",
        "There's actually another one called `__repr__` which is related, but we'll just focus on `__str__` for now."
      ]
    },
    {
      "cell_type": "code",
      "metadata": {
        "id": "uB0QsYvKPc0a",
        "colab_type": "code",
        "colab": {}
      },
      "source": [
        "class Rectangle:\n",
        "    def __init__(self, width, height):\n",
        "        self.width = width\n",
        "        self.height = height\n",
        "        \n",
        "    def area(self):\n",
        "        return self.width * self.height\n",
        "    \n",
        "    def perimeter(self):\n",
        "        return 2 * (self.width + self.height)\n",
        "\n",
        "    def __str__(self):\n",
        "        return 'Rectangle: width={0}, height={1}'.format(self.width, self.height)"
      ],
      "execution_count": 19,
      "outputs": []
    },
    {
      "cell_type": "code",
      "metadata": {
        "id": "jY8aHOT_RSno",
        "colab_type": "code",
        "colab": {}
      },
      "source": [
        "r1 = Rectangle(10,20)"
      ],
      "execution_count": 20,
      "outputs": []
    },
    {
      "cell_type": "code",
      "metadata": {
        "id": "l7XfZpYhRVI5",
        "colab_type": "code",
        "colab": {
          "base_uri": "https://localhost:8080/",
          "height": 35
        },
        "outputId": "b9025108-4ee1-4124-9566-382a8d2715fb"
      },
      "source": [
        "str(r1)"
      ],
      "execution_count": 21,
      "outputs": [
        {
          "output_type": "execute_result",
          "data": {
            "application/vnd.google.colaboratory.intrinsic+json": {
              "type": "string"
            },
            "text/plain": [
              "'Rectangle: width=10, height=20'"
            ]
          },
          "metadata": {
            "tags": []
          },
          "execution_count": 21
        }
      ]
    },
    {
      "cell_type": "markdown",
      "metadata": {
        "id": "I4G1v4CFUEHg",
        "colab_type": "text"
      },
      "source": [
        "However, in Jupyter (and interactive console if you are using that), look what happens here:"
      ]
    },
    {
      "cell_type": "code",
      "metadata": {
        "id": "479MqXqERV67",
        "colab_type": "code",
        "colab": {
          "base_uri": "https://localhost:8080/",
          "height": 35
        },
        "outputId": "1c8f4eee-dc6a-4702-97b7-0e8f287e0012"
      },
      "source": [
        "r1"
      ],
      "execution_count": 22,
      "outputs": [
        {
          "output_type": "execute_result",
          "data": {
            "text/plain": [
              "<__main__.Rectangle at 0x7fcab2de7a90>"
            ]
          },
          "metadata": {
            "tags": []
          },
          "execution_count": 22
        }
      ]
    },
    {
      "cell_type": "code",
      "metadata": {
        "id": "8Q-_QXBxRoVq",
        "colab_type": "code",
        "colab": {}
      },
      "source": [
        ""
      ],
      "execution_count": null,
      "outputs": []
    }
  ]
}