{
  "nbformat": 4,
  "nbformat_minor": 0,
  "metadata": {
    "colab": {
      "name": "07 - Classes.ipynb",
      "provenance": [],
      "collapsed_sections": [],
      "authorship_tag": "ABX9TyMsuFU7dcLXN1aK09OeaCPC",
      "include_colab_link": true
    },
    "kernelspec": {
      "name": "python3",
      "display_name": "Python 3"
    }
  },
  "cells": [
    {
      "cell_type": "markdown",
      "metadata": {
        "id": "view-in-github",
        "colab_type": "text"
      },
      "source": [
        "<a href=\"https://colab.research.google.com/github/RocioLiu/Python_coding/blob/master/07_Classes.ipynb\" target=\"_parent\"><img src=\"https://colab.research.google.com/assets/colab-badge.svg\" alt=\"Open In Colab\"/></a>"
      ]
    },
    {
      "cell_type": "markdown",
      "metadata": {
        "id": "PKFUe9wy4IKV",
        "colab_type": "text"
      },
      "source": [
        "## **Custom Classes**\n",
        "We'll cover classes in a lot of detail in this course, but for now you should have at least some understanding of classes in Python and how to create them.\n",
        "\n",
        "To create a custom class we use the class keyword, and we can initialize class attributes in the special method `__init__`."
      ]
    },
    {
      "cell_type": "code",
      "metadata": {
        "id": "vrusz2Uw3IfJ",
        "colab_type": "code",
        "colab": {}
      },
      "source": [
        "class Rectangle():\n",
        "  def __init__(self, width, height):\n",
        "    self.width = width\n",
        "    self.height = height"
      ],
      "execution_count": 4,
      "outputs": []
    },
    {
      "cell_type": "markdown",
      "metadata": {
        "id": "zZwihDBW4XDH",
        "colab_type": "text"
      },
      "source": [
        "We create instances of the Rectangle class by calling it with arguments that are passed to the `__init__` method as the second and third arguments. The first argument (`self`) is automatically filled in by Python and contains the object being created.\n",
        "\n",
        "Note that using `self` is just a convention (although a good one, and you shgoudl use it to make your code more understandable by others), you could really call it whatever (valid) name you choose.\n",
        "\n",
        "But just because you can does not mean you should!\n",
        "\n",
        "The **initializer** in python is implemented using the `__init__` method. The `__init__` method runs once the object has been created.\n",
        "\n",
        "The initialzer is the step after the object being created. The first argument in the instance method is the object itself. we can call it any thing we want, but we usually call it `self` by convention. So `self` means the instance that just been creted."
      ]
    },
    {
      "cell_type": "code",
      "metadata": {
        "id": "_yp4DUw14Npz",
        "colab_type": "code",
        "colab": {}
      },
      "source": [
        "r1 = Rectangle(10, 20)\n",
        "r2 = Rectangle(3, 5)"
      ],
      "execution_count": 8,
      "outputs": []
    },
    {
      "cell_type": "code",
      "metadata": {
        "id": "XWryuHme8SKV",
        "colab_type": "code",
        "colab": {
          "base_uri": "https://localhost:8080/",
          "height": 35
        },
        "outputId": "aae40529-f496-4409-b9af-c6fba81bec97"
      },
      "source": [
        "r1.width"
      ],
      "execution_count": 6,
      "outputs": [
        {
          "output_type": "execute_result",
          "data": {
            "text/plain": [
              "10"
            ]
          },
          "metadata": {
            "tags": []
          },
          "execution_count": 6
        }
      ]
    },
    {
      "cell_type": "code",
      "metadata": {
        "id": "0gNj6Dbu8gHX",
        "colab_type": "code",
        "colab": {
          "base_uri": "https://localhost:8080/",
          "height": 35
        },
        "outputId": "a3a5b8d3-30a8-46ea-989c-2b040fd34b30"
      },
      "source": [
        "r1.width = 100\n",
        "r1.width"
      ],
      "execution_count": 7,
      "outputs": [
        {
          "output_type": "execute_result",
          "data": {
            "text/plain": [
              "100"
            ]
          },
          "metadata": {
            "tags": []
          },
          "execution_count": 7
        }
      ]
    },
    {
      "cell_type": "code",
      "metadata": {
        "id": "IWhgj3kh8kIF",
        "colab_type": "code",
        "colab": {
          "base_uri": "https://localhost:8080/",
          "height": 35
        },
        "outputId": "0cd05dc6-e6a5-4c6f-95d9-529a605ccaf8"
      },
      "source": [
        "r2.height"
      ],
      "execution_count": 9,
      "outputs": [
        {
          "output_type": "execute_result",
          "data": {
            "text/plain": [
              "5"
            ]
          },
          "metadata": {
            "tags": []
          },
          "execution_count": 9
        }
      ]
    },
    {
      "cell_type": "markdown",
      "metadata": {
        "id": "s_doopWa9MN1",
        "colab_type": "text"
      },
      "source": [
        "`width` and `height` are attributes of the `Rectangle` class. But since they are just values (not callables), we call them **properties**.\n",
        "\n",
        "Attributes that are callables are called **methods**.\n",
        "\n",
        "You'll note that we were able to retrieve the width and height attributes (properties) using a dot notation, where we specify the object we are interested in, then a dot, then the attribute we are interested in.\n",
        "\n",
        "We can add callable attributes to our class (methods), that will also be referenced using the dot notation.\n",
        "\n",
        "Again, we will create instance methods, which means the method will require the first argument to be the object being used when the method is called."
      ]
    },
    {
      "cell_type": "code",
      "metadata": {
        "id": "MMF9OOTZ8xvb",
        "colab_type": "code",
        "colab": {}
      },
      "source": [
        "class Rectangle():\n",
        "  def __init__(self, width, height):\n",
        "    self.width = width\n",
        "    self.height = height\n",
        "\n",
        "  def area(self):\n",
        "    return self.width * self.height\n",
        "\n",
        "  def perimeter(the_referenced_object):\n",
        "    return 2 * (the_referenced_object.width + the_referenced_object.height)"
      ],
      "execution_count": 15,
      "outputs": []
    },
    {
      "cell_type": "code",
      "metadata": {
        "id": "Tkotg8Jj-l52",
        "colab_type": "code",
        "colab": {}
      },
      "source": [
        "r1 = Rectangle(10, 20)"
      ],
      "execution_count": 16,
      "outputs": []
    },
    {
      "cell_type": "code",
      "metadata": {
        "id": "up6KYldn-pm-",
        "colab_type": "code",
        "colab": {
          "base_uri": "https://localhost:8080/",
          "height": 35
        },
        "outputId": "dc6befdc-4efc-4498-ffbf-94d58f46064f"
      },
      "source": [
        "r1.area()"
      ],
      "execution_count": 17,
      "outputs": [
        {
          "output_type": "execute_result",
          "data": {
            "text/plain": [
              "200"
            ]
          },
          "metadata": {
            "tags": []
          },
          "execution_count": 17
        }
      ]
    },
    {
      "cell_type": "markdown",
      "metadata": {
        "id": "k6PBDIV4-1GH",
        "colab_type": "text"
      },
      "source": [
        "When we ran the above line of code, our object was `r1`, so when area was called, Python in fact called the method area in the `Rectangle` class automatically passing `r1` to the `self` parameter.\n",
        "\n",
        "This is why we can use a name other than self, such as in the perimeter method:"
      ]
    },
    {
      "cell_type": "code",
      "metadata": {
        "id": "AtsCFHnK-tds",
        "colab_type": "code",
        "colab": {
          "base_uri": "https://localhost:8080/",
          "height": 35
        },
        "outputId": "0ccf98a3-8a34-4bc8-fba3-0fbf8a58b68c"
      },
      "source": [
        "r1.perimeter()"
      ],
      "execution_count": 18,
      "outputs": [
        {
          "output_type": "execute_result",
          "data": {
            "text/plain": [
              "60"
            ]
          },
          "metadata": {
            "tags": []
          },
          "execution_count": 18
        }
      ]
    },
    {
      "cell_type": "markdown",
      "metadata": {
        "id": "2ioBvJKR_bJz",
        "colab_type": "text"
      },
      "source": [
        "Again, we're just illustrating a point, don't actually do that!"
      ]
    },
    {
      "cell_type": "code",
      "metadata": {
        "id": "1ENIdhUW-vEH",
        "colab_type": "code",
        "colab": {}
      },
      "source": [
        "class Rectangle:\n",
        "    def __init__(self, width, height):\n",
        "        self.width = width\n",
        "        self.height = height\n",
        "        \n",
        "    def area(self):\n",
        "        return self.width * self.height\n",
        "    \n",
        "    def perimeter(self):\n",
        "        return 2 * (self.width + self.height)"
      ],
      "execution_count": 19,
      "outputs": []
    },
    {
      "cell_type": "code",
      "metadata": {
        "id": "gSJVL2Cm_hJS",
        "colab_type": "code",
        "colab": {}
      },
      "source": [
        "r1 = Rectangle(10, 20)"
      ],
      "execution_count": 21,
      "outputs": []
    },
    {
      "cell_type": "code",
      "metadata": {
        "id": "dx855Bwi_iw8",
        "colab_type": "code",
        "colab": {}
      },
      "source": [
        ""
      ],
      "execution_count": null,
      "outputs": []
    }
  ]
}